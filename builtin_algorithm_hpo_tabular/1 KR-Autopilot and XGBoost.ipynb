{
 "cells": [
  {
   "cell_type": "markdown",
   "id": "7fbdb166-365d-44ea-9288-99a4baba1b56",
   "metadata": {},
   "source": [
    "### Direct Marketing in Banking - Propensity Modelling with Tabular Data\n",
    "\n",
    "# Part 1: SageMaker Autopilot, XGBoost, and HPO\n",
    "\n",
    "> *이 노트북은 SageMaker Studio의 `Python 3 (Data Science 3.0)` 커널과 잘 작동합니다.*\n",
    "\n",
    "이 워크샵에서는 클래스 불균형이 심각한 표 형식의 [binary classification](https://en.wikipedia.org/wiki/Binary_classification) 사용 사례, 즉 은행의 어떤 고객이 타겟 마케팅 캠페인에 응답할 가능성이 높은지 예측하는 사례를 살펴 봅니다.\n",
    "\n",
    "이 노트북에서는 먼저 [Amazon SageMaker Autopilot]()을 사용하여 AutoML로 문제를 해결한 다음, [SageMaker built-in XGBoost algorithm](https://docs.aws.amazon.com/sagemaker/latest/dg/xgboost.html) 과 [automatic hyperparameter tuning](https://docs.aws.amazon.com/sagemaker/latest/dg/automatic-model-tuning.html) 을 통해 더 깊이 있게 살펴 봅니다.\n",
    "\n",
    "## Contents\n",
    "\n",
    "> ℹ️ **Tip:** JupyterLab / SageMaker Studio의 왼쪽 사이드바에 있는 목차 패널을 사용하여 섹션을 보고 탐색할 수 있습니다.\n",
    "\n",
    "1. **[Prepare our environment](#Prepare-our-environment)**\n",
    "1. **[Fetch the example dataset](#Fetch-the-example-dataset)**\n",
    "1. **[Starting fast with SageMaker Autopilot](#Starting-fast-with-SageMaker-Autopilot)**\n",
    "1. **[Diving deeper with XGBoost](#Diving-deeper-with-XGBoost)**\n",
    "1. **[Hyperparameter Optimization (HPO)](#Hyperparameter-Optimization-(HPO))**\n",
    "1. **[Conclusions](#Conclusions)**"
   ]
  },
  {
   "cell_type": "markdown",
   "id": "a15522d2-6c27-41ad-a2c9-7a46c628dcf4",
   "metadata": {},
   "source": [
    "## Prepare our environment\n",
    "\n",
    "시작하려면 다음을 수행해야 합니다:\n",
    "\n",
    "- **Import** some useful libraries (as in any Python notebook)\n",
    "- **Configure** -\n",
    "    - The [Amazon S3 bucket](https://docs.aws.amazon.com/AmazonS3/latest/userguide/Welcome.html#CoreConcepts) and folder where **data** should be stored (to keep our environment tidy)\n",
    "    - The [IAM role](https://docs.aws.amazon.com/IAM/latest/UserGuide/id_roles.html) defining what **permissions** the jobs you create will have\n",
    "- **Connect** to AWS in general (with [boto3](https://boto3.amazonaws.com/v1/documentation/api/latest/index.html)) and SageMaker in particular (with the [sagemaker SDK](https://sagemaker.readthedocs.io/en/stable/)), to use the cloud services\n",
    "\n",
    "아래 셀을 실행하여 이를 설정 합니다.\n",
    "\n",
    "> ℹ️ **Tip:** [JupyterLab notebook](https://jupyterlab.readthedocs.io/en/stable/user/interface.html) 에서와 마찬가지로, 대상 셀을 클릭한 다음 도구 모음에서 재생(▶️) 버튼을 누르거나 키보드에서 `Shift+Enter` 를 눌러 코드 셀을 실행할 수 있습니다."
   ]
  },
  {
   "cell_type": "code",
   "execution_count": null,
   "id": "ae9e1b6a-41fc-4fb1-8194-76c2d96579d4",
   "metadata": {
    "tags": []
   },
   "outputs": [],
   "source": [
    "%load_ext autoreload\n",
    "%autoreload 2\n",
    "\n",
    "# Python Built-Ins:\n",
    "import json\n",
    "import time\n",
    "\n",
    "# External Dependencies:\n",
    "import boto3  # General-purpose AWS SDK for Python\n",
    "import numpy as np  # For matrix operations and numerical processing\n",
    "import pandas as pd  # Tabular data utilities\n",
    "import sagemaker  # High-level SDK specifically for Amazon SageMaker\n",
    "from sagemaker.automl.automl import AutoML as AutoMLEstimator\n",
    "from sagemaker.feature_store.feature_group import FeatureGroup\n",
    "\n",
    "# Local Helper Functions:\n",
    "import util\n",
    "\n",
    "# Setting up SageMaker parameters\n",
    "sgmk_session = sagemaker.Session()  # Connect to SageMaker APIs\n",
    "region = sgmk_session.boto_session.region_name  # The AWS Region we're using (e.g. 'ap-southeast-1')\n",
    "bucket_name = sgmk_session.default_bucket()  # Select an Amazon S3 bucket\n",
    "bucket_prefix = \"sm101/direct-marketing\"  # Location in the bucket to store our files\n",
    "sgmk_role = sagemaker.get_execution_role()  # IAM Execution Role to use for permissions\n",
    "\n",
    "print(f\"s3://{bucket_name}/{bucket_prefix}\")\n",
    "print(sgmk_role)"
   ]
  },
  {
   "cell_type": "markdown",
   "id": "3679792b-7352-4064-a449-035a68f2c6c4",
   "metadata": {},
   "source": [
    "## Fetch the example dataset\n",
    "\n",
    "이번 예시에서는 [UCI Bank Marketing Dataset](https://archive.ics.uci.edu/ml/datasets/bank+marketing) 을 사용 합니다. : S. Moro, P. Cortez and P. Rita. *은행 텔레마케팅의 성공을 예측하기 위한 데이터 기반 접근 방식.* Decision Support Systems, Elsevier, 62:22-31, June 2014.\n",
    "\n",
    "다음 셀에서는 데이터 집합을 로컬로 다운로드하여 Amazon S3에 저장하고 변환된 사본을 [Amazon SageMaker Feature Store](https://aws.amazon.com/sagemaker/feature-store/) 에 로드 합니다.\n",
    "\n",
    "> ℹ️ **Tip:** SageMaker Feature Store를 **사용하지 않고도** SageMaker에서 모델을 훈련하고 배포할 수 있지만, 이 예제에서는 더 다양한 SageMaker 기능을 보여드리기 위해 소개합니다.\n",
    ">\n",
    "> 여기서 데이터 로딩이 어떻게 수행되는지에 대한 세부 사항에 대해 너무 걱정하지 마시고, 궁금한 점이 있으면 [util/data.py](util/data.py) 에서 이러한 헬퍼 함수 뒤에 있는 코드를 확인할 수 있습니다."
   ]
  },
  {
   "cell_type": "code",
   "execution_count": null,
   "id": "145a4fcd-7c54-42d7-a6a9-09efe63fd59e",
   "metadata": {
    "tags": []
   },
   "outputs": [],
   "source": [
    "raw_data_path = util.data.fetch_sample_data()\n",
    "print(f\"Got: {raw_data_path}\\n\")\n",
    "\n",
    "print(\"Uploading raw dataset to Amazon S3:\")\n",
    "raw_data_s3uri = f\"s3://{bucket_name}/{bucket_prefix}/raw.csv\"\n",
    "!aws s3 cp {raw_data_path} {raw_data_s3uri}"
   ]
  },
  {
   "cell_type": "code",
   "execution_count": null,
   "id": "ae1c1a74-eb5f-4c9f-9bb4-bc147138f8f7",
   "metadata": {
    "tags": []
   },
   "outputs": [],
   "source": [
    "%%time\n",
    "feature_group_name = \"sm101-direct-marketing\"\n",
    "print(\"Loading data to SageMaker Feature Store:\")\n",
    "\n",
    "# No need to re-run this if you've done it already - just set `feature_group_name` variable.\n",
    "util.data.load_sample_data(\n",
    "    raw_data_path,\n",
    "    fg_s3_uri=f\"s3://{bucket_name}/{bucket_prefix}/feature-store\",\n",
    "    feature_group_name=feature_group_name,\n",
    "    ignore_cols=[\n",
    "        \"duration\", \"emp.var.rate\", \"cons.price.idx\", \"cons.conf.idx\", \"euribor3m\", \"nr.employed\"\n",
    "    ],\n",
    ")"
   ]
  },
  {
   "cell_type": "markdown",
   "id": "030e72d9-8b36-4dc3-a43f-ddf892598b95",
   "metadata": {},
   "source": [
    "> ⏰ 이 셀의 실행이 완료될 때까지 **기다릴 필요가 없습니다.** : `Ingesting data...` 단계에 도달하면 바로 다음 섹션으로 넘어갈 수 있습니다.\n",
    "\n",
    "▶️ `Ingesting data...` 단계에 도달하자 마자 SageMaker Feature Store catalog에서 \"feature group\"을 볼 수 있습니다:\n",
    "\n",
    "- SageMaker Studio의 왼쪽 사이드바에서 🏠 *SageMaker Home* 아이콘을 선택합니다. \n",
    "- 사이드바 메뉴에서 `Data > Feature Store` 를 선택하여 Feature Store UI를 엽니다.\n",
    "\n",
    "\"feature group\" (table)으로 카탈로그를 검색하거나 개별 기능을 직접 검색할 수 있습니다. UCI의 데이터 세트 설명을 기반으로 설명과 일부 태그가 이미 채워져 있습니다.\n",
    "\n",
    "![](img/feature-store-features.png \"Screenshot of SMStudio Feature Store UI showing feature catalog\")"
   ]
  },
  {
   "cell_type": "markdown",
   "id": "44b0be11-d5a8-4fe4-9f8a-b1c9426d9b15",
   "metadata": {},
   "source": [
    "## Starting fast with SageMaker Autopilot\n",
    "\n",
    "> ℹ️ **Tip: 다음 수동 단계 건너뛰기** - 아래로 스크롤하면 API를 통해 유사한 설정을 만들 수 있는 코드를 찾을 수 있습니다.\n",
    "\n",
    "Autopilot을 사용하면 광범위한 데이터 준비나 코드 작성 없이도 표 형식의 ML 문제를 쉽게 시작할 수 있습니다. 그 이유는 다음과 같습니다:\n",
    "\n",
    "- Autopilot은 고성능 모델을 식별하기 위해 다양한 데이터 전처리 옵션, 알고리즘 및 하이퍼 파라미터를 자동으로 탐색합니다.\n",
    "- 일부 수동 feature engineering을 먼저 수행하려는 경우에도 Autopilot은 [SageMaker Data Wrangler](https://aws.amazon.com/sagemaker/data-wrangler/) (SageMaker's low-code/no-code data preparation tool)와 직접 통합됩니다. 런처에서 new Data Wrangler Flow을 만들거나 File > New > Data Wrangler Flow 을 만들어 이를 탐색할 수 있습니다."
   ]
  },
  {
   "cell_type": "markdown",
   "id": "a8cedf0c-ead8-41b0-9b88-154db3acabe6",
   "metadata": {},
   "source": [
    "▶️ 데이터를 SageMaker Feature Store로 가져오는 동안, **raw CSV 파일을 사용하여 Autopilot 실험을 시작** 하겠습니다.\n",
    "\n",
    "1. SageMaker Studio의 왼쪽 사이드바에서 🏠 *SageMaker Home* 아이콘을 **선택합니다.**\n",
    "1. 사이드바 메뉴에서 `AutoML` 을 **선택합니다.**\n",
    "1. `Create Autopilot Experiment` 버튼을 **클릭 합니다.**"
   ]
  },
  {
   "cell_type": "markdown",
   "id": "1b7e4ae3-6a5c-4a62-9ef8-75c1d0337f8e",
   "metadata": {},
   "source": [
    "▶️ 첫번째 **Experiment and data details** 단계:\n",
    "\n",
    "- **Experiment name** 을 선택합니다 - `sm101-autopilot-1` 같은 것이 좋습니다.\n",
    "- **S3 location** 의 경우 `Browse` 버튼을 사용하거나 이 노트북의 앞부분에 있는 `raw_data_s3uri` 의 URI를 입력하면 됩니다.\n",
    "- 다른 설정은 기본값을 유지하고 **Next** 를 클릭합니다.\n",
    "\n",
    "![](img/autopilot-01-select-data.png \"Screenshot of Autopilot workflow selecting the raw data CSV in S3\")"
   ]
  },
  {
   "cell_type": "markdown",
   "id": "60b78a88-0396-410d-a055-bb0ee47a1df6",
   "metadata": {},
   "source": [
    "▶️ 다음 **Experiment and data details** 단계:\n",
    "\n",
    "- **Target** 컬럼에서 `y` 를 선택합니다.\n",
    "- 이 노트북 앞 부분에 있는 `ignore_cols` 에서 feature를 **선택 취소** 하여 모델에서 **제외** 합니다.\n",
    "    - ⚠️ [UCI dataset page](https://archive.ics.uci.edu/ml/datasets/bank+marketing)에서 논의한 바와 같이, `duration` 필드는 대상 변수에 대한 정보를 유출하기 때문에 모델링에 포함하기에 특히 부적합합니다. (기간이 긴 고객은 성공적인 영업 기회가 될 가능성이 높았으며, 어떤 고객에게 접근해야 할지 목표 시점에서 통화 기간을 알 수 없습니다.) 또한 추론 시간에 최종 5개의 macro-economic 변수를 쉽게 사용할 수 없을 수 있으므로 제외합니다.\n",
    "\n",
    "![](img/autopilot-02-select-features.png \"Screenshot of Autopilot workflow excluding ignored features and selecting y as target variable\")"
   ]
  },
  {
   "cell_type": "markdown",
   "id": "3440e3cc-6c71-4dd8-baba-8e61d371f1a8",
   "metadata": {},
   "source": [
    "▶️ 다음 **Training method** 단계:\n",
    "\n",
    "- 기본 **Auto** 선택 방법을 그대로 사용할 수 있습니다. 이 데이터 세트가 작기 때문에 앙상블 방법이 자동으로 선택됩니다. 원하는 경우 두 가지 방법을 비교하기 위해 두 번째 실험을 만들 수 있습니다.\n",
    "\n",
    "![](img/autopilot-03-select-mode.png \"Select Auto mode in the UI, which will be equivalent to Ensembling for this small dataset\")"
   ]
  },
  {
   "cell_type": "markdown",
   "id": "cc0a7982-5327-4f29-a70d-b25b7fd398b9",
   "metadata": {},
   "source": [
    "▶️ 다음 **Deployment and advanced settings** 단계:\n",
    "\n",
    "- **이전 화면에서 \"HPO\" training method를 선택한 경우**: `Runtime > Max candidates` 설정을 250 에서 ~50으로 줄이는 것을 고려하세요. 기본 설정은 훈련하는데 몇 시간이 걸릴 수 있습니다.\n",
    "- **그렇지 않으면**, 모든 설정을 기본값으로 유지\n",
    "\n",
    "▶️ **Next를 클릭하고** 설정을 검토한 다음 **Create experiment**를 클릭합니다.\n",
    "\n",
    "![](img/autopilot-04-runtime.png \"Screenshot selecting smaller number of max candidates in runtime menu - only applicable for HPO jobs\")\n",
    "\n",
    "또는 [CreateAutoMLJob API](https://docs.aws.amazon.com/sagemaker/latest/APIReference/API_CreateAutoMLJob.html) 또는 아래와 같이 [SageMaker Python SDK](https://sagemaker.readthedocs.io/en/stable/api/training/automl.html)의 고급 `AutoML` 을 통해 Autopilot Jobs를 생성할 수 있습니다:\n",
    "\n",
    "> ⚠️ Autopilot job을 이미 수동으로 만든 경우 다음 셀을 실행할 필요가 없습니다!"
   ]
  },
  {
   "cell_type": "code",
   "execution_count": null,
   "id": "a7ec436a-5082-4f25-aac6-13b318d0573f",
   "metadata": {
    "tags": []
   },
   "outputs": [],
   "source": [
    "# There's no need to run this cell if you created an Autopilot job manually!\n",
    "autopilot = AutoMLEstimator(\n",
    "    role=sgmk_role,\n",
    "    target_attribute_name=\"y\",\n",
    "\n",
    "    # At the time of writing, the high-level Python SDK didn't support ensembling mode - so we'll\n",
    "    # use the HPO mode instead with limited max_candidates:\n",
    "    max_candidates=20,\n",
    "\n",
    "    # Optional params to keep the environment tidy:\n",
    "    base_job_name=\"sm101-autopilot\",\n",
    "    output_path=f\"s3://{bucket_name}/{bucket_prefix}/autopilot\",\n",
    ")\n",
    "\n",
    "autopilot.fit(raw_data_s3uri, wait=False)"
   ]
  },
  {
   "cell_type": "markdown",
   "id": "385544cd-1bf1-44b1-a1dd-fa25ab982354",
   "metadata": {},
   "source": [
    "## Diving deeper with XGBoost\n",
    "\n",
    "고성능 모델을 신속하게 구축하는 또 다른 유용한 도구는 광범위한 유즈 케이스를 위해 SageMaker에서 제공하는 [built-in algorithms](https://docs.aws.amazon.com/sagemaker/latest/dg/algos.html) 세트 입니다.\n",
    "\n",
    "데이터 사전 처리 및 하이퍼파라미터 조정 프로세스를 자동화하기 위해 Autopilot을 사용하는 대신, 우리는 이러한 빌트인 알고리즘(또는 사용자 지정 알고리즘)을 직접 사용하여 세부적인 제어를 할 수 있습니다. 이 예에서는 [XGBoost algorithm](https://docs.aws.amazon.com/sagemaker/latest/dg/xgboost.html) 을 보여드리겠습니다.\n",
    "\n",
    "\n",
    "### Understand the algorithm requirements\n",
    "\n",
    "SageMaker 빌트인 알고리즘을 사용하는 첫 번째 단계는 전체적인 특성과 제공하는 인터페이스를 이해하는 것 입니다. 여기서는 다음을 참조합니다:\n",
    "\n",
    "- The [algorithm docs](https://docs.aws.amazon.com/sagemaker/latest/dg/xgboost.html) to understand the **detail** of the **data formats** and **(hyper)-parameters** it supports - as well as sample notebooks\n",
    "- The [Common Parameters doc](https://docs.aws.amazon.com/sagemaker/latest/dg/sagemaker-algo-docker-registry-paths.html) to compare the **high-level configurations** and capabilities between algorithms.\n",
    "\n",
    "\n",
    "알고리즘 문서 페이지에서 설명한 바와 같이 SageMaker에서 XGBoost 를 사용하는 방법에는 pre-built 알고리즘 (스크립트가 필요 없음) 또는 프레임워크 (사용자 지정 훈련 스크립트 사용)의 2 가지가 있습니다.\n",
    "\n",
    "이 예에서는 pre-built algorithm mode를 사용하므로 컨테이너 이미지 URI만 가져오면 됩니다:"
   ]
  },
  {
   "cell_type": "code",
   "execution_count": null,
   "id": "26c0d5df-16ba-4d30-a883-febf7210fba4",
   "metadata": {
    "tags": []
   },
   "outputs": [],
   "source": [
    "image_uri = sagemaker.image_uris.retrieve(\"xgboost\", region=region, version=\"1.5-1\")\n",
    "print(image_uri)"
   ]
  },
  {
   "cell_type": "markdown",
   "id": "2cc7b804-1adc-4fca-b534-032edce80295",
   "metadata": {
    "tags": []
   },
   "source": [
    "### Extract batch data from the SageMaker Feature Store\n",
    "\n",
    "그런 다음 [Amazon Athena](https://aws.amazon.com/athena/)의 서버리스 SQL 쿼리를 통해 (offline/batch) SageMaker Feature Store에서 스냅샷을 추출하여 모델 훈련을 준비합니다.\n",
    "\n",
    "Feature Store는 레코드의 **기록을 추적** 하여, feature가 시간이 지남에 따라 변경되는 경우에도 시점 스냅샷을 복제할 수 있도록 합니다.\n",
    "\n",
    "- SageMaker Studio Feature Store UI를 통해 time-travel 및 other views에 대한 **Example queries** 를 사용할 수 있습니다. : Feature Group에서 \"Sample queries\" 탭으로 전환합니다.\n",
    "- 아래 쿼리에서 반환된 추가 `event_time`, `write_time`, `api_invocation_time`, `is_deleted` 및 `row_number` 필드는 이 기록 추적에 대한 메타데이터이므로 실제 모델 훈련에 사용되지 않습니다."
   ]
  },
  {
   "cell_type": "code",
   "execution_count": null,
   "id": "3c144afc-a7e9-420e-93d9-3cdb22fac8cd",
   "metadata": {
    "tags": []
   },
   "outputs": [],
   "source": [
    "feature_group = FeatureGroup(feature_group_name, sagemaker_session=sgmk_session)\n",
    "query = feature_group.athena_query()\n",
    "table_name = query.table_name\n",
    "\n",
    "data_extract_s3uri = f\"s3://{bucket_name}/{bucket_prefix}/data-extract\"\n",
    "!aws s3 rm --quiet --recursive {data_extract_s3uri}  # Clear any previous extractions\n",
    "print(f\"Querying feature store to extract snapshot at:\\n{data_extract_s3uri}\")\n",
    "query.run(\n",
    "    f\"\"\"\n",
    "    SELECT *\n",
    "    FROM\n",
    "        (SELECT *,\n",
    "        row_number()\n",
    "        OVER\n",
    "            (PARTITION BY \"customer_id\"\n",
    "            ORDER BY \"event_time\" DESC, Api_Invocation_Time DESC, write_time DESC)\n",
    "        AS row_number\n",
    "        FROM \"sagemaker_featurestore\".\"{table_name}\"\n",
    "        WHERE \"event_time\" <= {time.time()})\n",
    "    WHERE row_number = 1 AND NOT is_deleted;\n",
    "    \"\"\",\n",
    "    output_location=data_extract_s3uri,\n",
    ")\n",
    "query.wait()\n",
    "\n",
    "full_df = query.as_dataframe()\n",
    "print(f\"Got {len(full_df)} records\")\n",
    "full_df"
   ]
  },
  {
   "cell_type": "markdown",
   "id": "17151b2f-40d5-4390-8717-25ead7d4ce80",
   "metadata": {
    "tags": []
   },
   "source": [
    "### Split and prepare datasets\n",
    "\n",
    "알고리즘 문서의 [Input and Output Interface section](https://docs.aws.amazon.com/sagemaker/latest/dg/xgboost.html#InputOutput-XGBoost) 에서 XGBoost는 훈련 및 선택적 검증을 위해 CSV 또는 LibSVM 데이터 입력을 합니다.\n",
    "\n",
    "이 XGBoost 알고리즘 버전은 문자열 범주형 기능을 완전히 지원하지 않기 때문에 추가적인 데이터 준비가 필요합니다.\n",
    "\n",
    "아래에서 우리는 범주형 필드를 원핫 인코딩한 다음 사전 처리된 데이터를 무작위로 혼합된 훈련, 검증 및 테스트 세트로 분할 합니다."
   ]
  },
  {
   "cell_type": "code",
   "execution_count": null,
   "id": "8b662d36-7e35-4cb2-9dc1-d80376386b9b",
   "metadata": {
    "tags": []
   },
   "outputs": [],
   "source": [
    "df_model_data = full_df.drop(\n",
    "    columns=[\n",
    "        \"customer_id\", \"event_time\", \"write_time\", \"api_invocation_time\", \"is_deleted\", \"row_number\"\n",
    "    ],\n",
    "    errors=\"ignore\",  # Your DF may not have 'row_number' if you didn't do a time travel query\n",
    ")\n",
    "df_model_data\n",
    "\n",
    "# Need to one-hot encode?\n",
    "df_model_data = pd.get_dummies(df_model_data)  # Convert categorical variables to sets of indicators\n",
    "\n",
    "# Shuffle and splitting dataset\n",
    "train_data, validation_data, test_data = np.split(\n",
    "    df_model_data.sample(frac=1, random_state=1729),\n",
    "    [int(0.7 * len(df_model_data)), int(0.9 * len(df_model_data))],\n",
    ")\n",
    "\n",
    "# Create CSV files for Train / Validation / Test\n",
    "train_data.to_csv(\"data/train.csv\", index=False, header=False)\n",
    "validation_data.to_csv(\"data/validation.csv\", index=False, header=False)\n",
    "test_data.to_csv(\"data/test.csv\", index=False, header=False)\n",
    "\n",
    "df_model_data"
   ]
  },
  {
   "cell_type": "markdown",
   "id": "a8f5be5c-e9a5-4252-8350-40d83be79f98",
   "metadata": {},
   "source": [
    "그런 다음 이 알고리즘에 대한 데이터 세트를 Amazon S3에 업로드하여 훈련 작업에 대한 입력으로 사용할 수 있습니다:"
   ]
  },
  {
   "cell_type": "code",
   "execution_count": null,
   "id": "f647af3b-78e1-491e-a98a-d4af7472a7ae",
   "metadata": {
    "tags": []
   },
   "outputs": [],
   "source": [
    "model_data_s3uri = f\"s3://{bucket_name}/{bucket_prefix}/model-data-xgb\"\n",
    "\n",
    "train_data_s3uri = model_data_s3uri + \"/train/data.csv\"\n",
    "train_data.to_csv(train_data_s3uri, index=False, header=False)\n",
    "validation_data_s3uri = model_data_s3uri + \"/validation/data.csv\"\n",
    "validation_data.to_csv(validation_data_s3uri, index=False, header=False)\n",
    "test_data_s3uri = model_data_s3uri + \"/test/data.csv\"\n",
    "test_data.to_csv(test_data_s3uri, index=False, header=False)"
   ]
  },
  {
   "cell_type": "markdown",
   "id": "557239c8-2c83-44b0-be71-ac84d24b1825",
   "metadata": {},
   "source": [
    "### Train a model\n",
    "\n",
    "호환 가능한 형식으로 준비된 데이터와 수집된 매개 변수를 사용하여 기본 [SageMaker CreateTrainingJob API](https://docs.aws.amazon.com/sagemaker/latest/APIReference/API_CreateTrainingJob.html) 를 통해 높은 수준의 wrapper를 제공하는 SageMaker SDK [Estimator](https://sagemaker.readthedocs.io/en/stable/api/training/estimators.html) 클래스를 통해 훈련 작업을 실행할 준비가 되었습니다.\n",
    "\n",
    "훈련 작업은 이 노트북과 별도의 컨테이너형 인프라에서 실행됩니다:\n",
    "\n",
    "- 인스턴스 수와 유형, 작업이 실행되는 IAM 권한을 **지정 합니다.** (notebook execution role과 별개일 수 있음)\n",
    "- Job 은 노트북과 **독립적 입니다** : 노트북이 중간에 연결이 끊어지거나 다시 시작되더라도 API를 통해 input parameters, logs, metrics, output artifacts 를 계속 사용할 수 있습니다. (이전/진행 중인 Job에 다시 연결하려면 [Estimator.attach(...)](https://sagemaker.readthedocs.io/en/stable/api/training/estimators.html#sagemaker.estimator.Estimator.attach) classmethod 참조)\n",
    "- 다음과 같은 **other infrastructure parameters** 를 사용할 수 있습니다:\n",
    "    - [SageMaker managed spot](https://docs.aws.amazon.com/sagemaker/latest/dg/model-managed-spot-training.html) : optimize infrastructure costs\n",
    "    - [Warm pool keep-alive](https://docs.aws.amazon.com/sagemaker/latest/dg/train-warm-pools.html) : speed up start of sequential jobs"
   ]
  },
  {
   "cell_type": "code",
   "execution_count": null,
   "id": "717597e0-ee03-4f33-86e2-afaf3aa39e19",
   "metadata": {
    "tags": []
   },
   "outputs": [],
   "source": [
    "%%time\n",
    "\n",
    "xgb_estimator = sagemaker.estimator.Estimator(\n",
    "    base_job_name=\"xgboost\",\n",
    "    role=sgmk_role,  # IAM role for job permissions (to access the S3 data)\n",
    "    image_uri=image_uri,  # XGBoost algorithm container\n",
    "    instance_count=1,\n",
    "    instance_type=\"ml.m5.xlarge\",  # Type of compute instance\n",
    "    max_run=25 * 60,  # Limit job to 25 minutes\n",
    "\n",
    "    # OPTIONALLY use spot instances to reduce cost:\n",
    "    use_spot_instances=True,\n",
    "    max_wait=30 * 60,  # Maximum clock time (including spot delays)\n",
    "\n",
    "    output_path=f\"s3://{bucket_name}/{bucket_prefix}/train-output\",\n",
    ")\n",
    "\n",
    "xgb_estimator.set_hyperparameters(\n",
    "    num_round=50,  # int: [1,300]\n",
    "    max_depth=5,  # int: [1,10]\n",
    "    alpha=2.5,  # float: [0,5]\n",
    "    eta=0.5,  # float: [0,1]\n",
    "    objective=\"binary:logistic\",\n",
    "    eval_metric=\"auc\",\n",
    ")\n",
    "\n",
    "# Launch a SageMaker Training job by passing the S3 path of the datasets:\n",
    "xgb_estimator.fit({\n",
    "    \"train\": sagemaker.inputs.TrainingInput(train_data_s3uri, content_type=\"csv\"),\n",
    "    \"validation\": sagemaker.inputs.TrainingInput(validation_data_s3uri, content_type=\"csv\"),\n",
    "})"
   ]
  },
  {
   "cell_type": "markdown",
   "id": "8963e739-5376-4c7a-b367-e810dc434e3e",
   "metadata": {},
   "source": [
    "노트북으로 스트리밍된 로그 뿐만 아니라 다음에서 작업 상태를 확인할 수 있습니다:\n",
    "- The [Training > Training jobs page of the AWS Console for SageMaker](https://console.aws.amazon.com/sagemaker/home?#/jobs)\n",
    "    - Including links to Amazon CloudWatch console to drill in to job logs and metric graphs\n",
    "- The Resources > Experiments and trials pane in SageMaker Studio\n",
    "    - Jobs started without an explicit Experiment configuration will appear under the \"Unassigned trial components\" folder"
   ]
  },
  {
   "cell_type": "markdown",
   "id": "139c4d06-6890-4dbe-beff-7c4a54215ef6",
   "metadata": {},
   "source": [
    "### Batch inference\n",
    "\n",
    "모델이 훈련되면 실시간 엔드포인트에 배포하여 필요에 따라 추론 요청을 하거나 기존 데이터 세트에서 배치 작업을 실행할 수 있습니다.\n",
    "\n",
    "이 첫번째 예에서는 [SageMaker Batch Transform](https://docs.aws.amazon.com/sagemaker/latest/dg/batch-transform.html) 을 사용하여 배치 추론을 실행합니다. SageMaker는 모든 입력 데이터가 처리되는 즉시 임시 클러스터를 스핀업하고 모델을 통해 데이터를 전송하고 리소스를 종료 합니다.\n",
    "\n",
    "시작하려면 `estimator.transformer(...)` 에서 [Transformer object](https://sagemaker.readthedocs.io/en/stable/api/inference/transformer.html) 를 직접 생성할 수 있습니다. 그러나 여기서는 먼저 `create_model()`을 통해 나중에 SageMaker 모델 레지스트리에 모델을 쉽게 추가할 수 있습니다:"
   ]
  },
  {
   "cell_type": "code",
   "execution_count": null,
   "id": "04ecdae4-2d56-48ec-8514-146a5046ba86",
   "metadata": {
    "tags": []
   },
   "outputs": [],
   "source": [
    "xgb_model = xgb_estimator.create_model()"
   ]
  },
  {
   "cell_type": "markdown",
   "id": "ee9e2c7d-84fc-4d1b-a359-143e9cfbffd3",
   "metadata": {},
   "source": [
    "Because SageMaker Batch Transform 은 모델을 통해 데이터를 전송하고 출력을 통합하는 프로세스를 조정하므로 기본 S3 출력 위치 및 인스턴스 크기/유형 외에도 다양한 추가 매개 변수가 있습니다.\n",
    "\n",
    "기본적으로 SageMaker Batch Transform 은 입력 S3 접두사의 각 파일을 하나의 요청 페이로드로 처리하고 `.out`을 추가하는 동일한 이름의 출력 파일을 생성 합니다:\n",
    "\n",
    "- 입력 파일의 각 행을 `split_type`이 있는 별도의 레코드로 해석하고 출력 데이터의 각 행을 `assemble_with`가 있는 별도의 레코드로 해석 합니다.\n",
    "- `MultiRecord` 배치 요청을 각각 최대 `max_payload` Megabytes 로 만듭니다 - 인스턴스 당 최대 `max_concurrent_transforms` 동시 요청을 허용 합니다.\n",
    "- `input_filter` 가 있는 모델 요청에서 `y` 대상 레이블 컬럼(테스트 데이터에 있는)을 제외 합니다.\n",
    "- `join_source` 를 사용하여 결과에 입력 데이터와 예측을 포함 합니다.\n",
    "\n",
    "결과는 여전히 각각 `.csv` 입력에 대한 `.csv.out` 파일이 되지만 SageMaker는 리소스 사용을 최적화하기 위해 개별 요청 배치 크기를 제어 합니다."
   ]
  },
  {
   "cell_type": "code",
   "execution_count": null,
   "id": "a88304a6-8477-4e1f-83cb-0f031868ee6f",
   "metadata": {
    "scrolled": true,
    "tags": []
   },
   "outputs": [],
   "source": [
    "eval_s3uri = f\"s3://{bucket_name}/{bucket_prefix}/xgb-evaluation\"\n",
    "\n",
    "xgb_transformer = xgb_model.transformer(\n",
    "    output_path=eval_s3uri,  # S3 output location\n",
    "    instance_count=1,  # Number of instances to spin up for the job\n",
    "    instance_type=\"ml.m5.large\",  # Instance type to use for inference\n",
    "    strategy=\"MultiRecord\",  # Request inference in batches, for efficiency\n",
    "    accept=\"text/csv\",  # Request CSV response format\n",
    "    assemble_with=\"Line\",  # Consolidate response records with newlines between\n",
    "    max_concurrent_transforms=2,  # Instances sent up to N requests concurrently\n",
    "    max_payload=1,  # Max size per request (in Megabytes)\n",
    ")\n",
    "\n",
    "xgb_transformer.base_transform_job_name=\"sm101-dm-xgboost\"\n",
    "xgb_transformer.transform(\n",
    "    test_data_s3uri,\n",
    "    content_type=\"text/csv\",  # Test data is in CSV format\n",
    "    split_type=\"Line\",  # Each line of test data is a separate record\n",
    "    join_source=\"Input\",  # Output joined data including the input features as well as prediction\n",
    "    input_filter=\"$[1:]\",  # Exclude the leading (actual target value) field\n",
    "    # wait=True,  # (Default True) Block the notebook kernel until the job completes\n",
    "    # logs=True,  # (Default True) Stream job logs to the notebook\n",
    ")"
   ]
  },
  {
   "cell_type": "markdown",
   "id": "d8b50bd3-c8a0-45a7-936e-40b96df0bf0b",
   "metadata": {},
   "source": [
    "작업이 완료되면 Amazon S3에서 직접 데이터 프레임을 읽을 수 있습니다:"
   ]
  },
  {
   "cell_type": "code",
   "execution_count": null,
   "id": "69aa6cad-a63f-4454-aea3-7f5c978a3d7d",
   "metadata": {
    "tags": []
   },
   "outputs": [],
   "source": [
    "df_eval = pd.read_csv(\n",
    "    eval_s3uri + \"/data.csv.out\",\n",
    "    header=None,\n",
    "    names=test_data.columns.tolist() + [\"y_prob\"],\n",
    ")\n",
    "df_eval"
   ]
  },
  {
   "cell_type": "markdown",
   "id": "87dc290b-0080-45ce-9acf-1e688cd35d2d",
   "metadata": {},
   "source": [
    "이 알고리즘은 할당된 클래스 레이블을 포함하지 않고 binary classification에 대한 positive-class 확률 점수만 출력 합니다.\n",
    "\n",
    "성능을 평가하기 위해 특정 `decision_threshold` (예: 0.5 이상의 점수가 class 1에 할당됨)를 가정하거나 - 모델의 F1 점수를 최대화하는 임계값을 취할 수 있습니다.\n",
    "\n",
    "아래 유틸리티 기능은 노트북에 시각적 보고서를 생성하지만 JSON 파일을 [SageMaker Model Quality Metrics compatible-format](https://docs.aws.amazon.com/sagemaker/latest/dg/model-monitor-model-quality-metrics.html)으로 저장합니다: [SageMaker Model Quality Monitoring job](https://docs.aws.amazon.com/sagemaker/latest/dg/model-monitor-model-quality.html) 을 실행하는 경우와 비슷합니다."
   ]
  },
  {
   "cell_type": "code",
   "execution_count": null,
   "id": "ad40ac6c-dd50-4c26-8484-7d681bb0a64c",
   "metadata": {
    "tags": []
   },
   "outputs": [],
   "source": [
    "%matplotlib inline\n",
    "\n",
    "report = util.reporting.generate_binary_classification_report(\n",
    "    y_real=df_eval[\"y\"].values,\n",
    "    y_predict_proba=df_eval[\"y_prob\"].values,\n",
    "    # y_predict_label not available for XGBoost output format\n",
    "    # Optionally set decision_threshold=0.5 to apply a specific threshold, instead of maximizing F1:\n",
    "    # decision_threshold=0.5,\n",
    "    class_names_list=[\"Did not enroll\", \"Enrolled\"],\n",
    "    title=\"Initial XGBoost model\",\n",
    ")\n",
    "\n",
    "# Store the model quality report locally and on Amazon S3:\n",
    "with open(\"data/report-xgboost.json\", \"w\") as f:\n",
    "    json.dump(report, f, indent=2)\n",
    "model_quality_s3uri = f\"s3://{bucket_name}/{bucket_prefix}/{xgb_model.name}/model-quality.json\"\n",
    "!aws s3 cp data/report-xgboost.json {model_quality_s3uri}"
   ]
  },
  {
   "cell_type": "markdown",
   "id": "11be4fa5-68e7-43d6-b285-644eea4bd9c8",
   "metadata": {
    "tags": []
   },
   "source": [
    "### Register and share the model\n",
    "\n",
    "훈련된 모델은 이미 SageMaker API에서 배포 및 재사용할 수 있습니다. (예: [Models page of the SageMaker Console](https://console.aws.amazon.com/sagemaker/home?#/models))\n",
    "\n",
    "그러나 [SageMaker Model Registry](https://docs.aws.amazon.com/sagemaker/latest/dg/model-registry.html)에서 카탈로그를 만들어 검색 가능성과 거버넌스를 개선할 수 있습니다. 여기서 I/O 형식 및 위에서 생성된 모델 품질 보고서를 포함한 추가 메타데이터를 연결할 수 있습니다:"
   ]
  },
  {
   "cell_type": "code",
   "execution_count": null,
   "id": "2199e4e7-7f86-4076-b974-3c0bacc6c9f5",
   "metadata": {
    "tags": []
   },
   "outputs": [],
   "source": [
    "xgb_model.register(\n",
    "    content_types=[\"text/csv\"],\n",
    "    response_types=[\"text/csv\"],\n",
    "    model_package_group_name=\"sm101-dm\",\n",
    "    description=\"Initial XGBoost model\",\n",
    "    model_metrics=sagemaker.model_metrics.ModelMetrics(\n",
    "        model_statistics=sagemaker.model_metrics.MetricsSource(\n",
    "            content_type=\"application/json\",\n",
    "            s3_uri=model_quality_s3uri,\n",
    "        ),\n",
    "    ),\n",
    "    domain=\"MACHINE_LEARNING\",\n",
    "    task=\"CLASSIFICATION\",\n",
    "    sample_payload_url=test_data_s3uri,\n",
    ")"
   ]
  },
  {
   "cell_type": "markdown",
   "id": "36b9aa2d-254f-4eff-af2c-a10785c0fa08",
   "metadata": {},
   "source": [
    "SageMaker Studio에서 버전 레지스트리 모델 패키지를 탐색하고 관리할 수 있습니다: 자동화된 배포를 트리거하기 위해 새 버전 검토 및 승인 포함"
   ]
  },
  {
   "cell_type": "markdown",
   "id": "f0dbc9ff-6403-4c14-9c5e-9b94b62c2f6f",
   "metadata": {},
   "source": [
    "## Hyperparameter Optimization (HPO)\n",
    "\n",
    "> ⏰ *아래의 기본 설정을 사용할 경우 하이퍼파라미터 조정 작업을 완료하는데 최대 20분이 소요될 수 있습니다*\n",
    "\n",
    "AutoGluon과 같은 AutoML 프레임워크는 모델 앙상블 캡슐화하려고 시도하지만, XGBoost와 같은 단일 알고리즘 접근 방식은 종종 특정 문제에 대한 `alpha`, `eta` 및 `max_depth` 와 같은 설정에 대한 최상의 값을 찾기 위해 하이퍼파라미터 튜닝의 이점을 얻을 수 있습니다.\n",
    "\n",
    "이러한 매개 변수 조합을 직접 탐색하는 것은 시간이 많이 걸릴 수 있습니다. 특히 매개 변수를 두 개 이상 고려하는 경우에는 더욱 그렇습니다.\n",
    "\n",
    "[SageMaker automatic model tuning](https://docs.aws.amazon.com/sagemaker/latest/dg/automatic-model-tuning.html) 은 지능형 탐색 및 최적화 작업을 자동으로 실행할 수 있으므로 이러한 실험을 관리하는 대신 통찰력을 구축하고 적용하는데 집중할 수 있습니다.\n",
    "\n",
    "아래와 같이 표준 `Estimator` 주위에 [HyperparameterTuner](https://sagemaker.readthedocs.io/en/stable/api/training/tuner.html) wrapper 를 설정할 수 있습니다. 주요 요구사항은:\n",
    "\n",
    "1. Your job outputs at least one **metric** which the tuner can maximize or minimize (this is handled automatically for most built-in algorithms)\n",
    "1. Specify **ranges for the hyperparameters** you'd like to explore\n",
    "1. Specify the **strategy and resource limits** for the job\n",
    "\n",
    "SageMaker HPO 는 그리드 및 랜덤 검색과 같은 탐색 도구지만 베이지안 최적화 및 하이퍼밴드와 같은 효율적인 HPO 지향 최적화 도구를 포함한 다양한 [전략](https://docs.aws.amazon.com/sagemaker/latest/dg/automatic-model-tuning-how-it-works.html) 을 지원 합니다.\n",
    "\n",
    "이 예에서는 베이지안 검색을 사용하여 XGBoost 모델 [See Machine Learning Key Concepts](https://docs.aws.amazon.com/machine-learning/latest/dg/amazon-machine-learning-key-concepts.html) 의 ROC 곡선 아래 영역을 최적화 합니다."
   ]
  },
  {
   "cell_type": "code",
   "execution_count": null,
   "id": "8e8e82c2-6c74-48d8-a705-67623cb8753a",
   "metadata": {
    "tags": []
   },
   "outputs": [],
   "source": [
    "%%time\n",
    "\n",
    "# import required HPO objects\n",
    "from sagemaker.tuner import (\n",
    "    CategoricalParameter,\n",
    "    ContinuousParameter,\n",
    "    HyperparameterTuner,\n",
    "    IntegerParameter,\n",
    ")\n",
    "\n",
    "# Target metric is already built in to the algorithm, so we just specify the name:\n",
    "objective = \"validation:auc\"\n",
    "\n",
    "# Configure hyperparameter ranges to explore:\n",
    "ranges = {\n",
    "    \"num_round\": IntegerParameter(1, 300),\n",
    "    \"max_depth\": IntegerParameter(1, 10),\n",
    "    \"alpha\": ContinuousParameter(0, 5),\n",
    "    \"eta\": ContinuousParameter(0, 1),\n",
    "}\n",
    "\n",
    "# Configure the tuner:\n",
    "xgb_tuner = HyperparameterTuner(\n",
    "    estimator=xgb_estimator,  # The SageMaker estimator object\n",
    "    hyperparameter_ranges=ranges,\n",
    "    max_jobs=15,  # Max total number of training jobs\n",
    "    max_parallel_jobs=3,  # How many training jobs can run in parallel\n",
    "    strategy=\"Bayesian\",  # the internal optimization strategy of HPO\n",
    "    objective_metric_name=objective,\n",
    "    objective_type=\"Maximize\",  # For AUC, higher = better\n",
    ")\n",
    "\n",
    "# Start the job:\n",
    "xgb_tuner.fit(\n",
    "    {\n",
    "        \"train\": sagemaker.inputs.TrainingInput(train_data_s3uri, content_type=\"csv\"),\n",
    "        \"validation\": sagemaker.inputs.TrainingInput(validation_data_s3uri, content_type=\"csv\"),\n",
    "    },\n",
    "    wait=True,  # Optionally block the notebook until the job is complete.\n",
    ")"
   ]
  },
  {
   "cell_type": "markdown",
   "id": "b8774db0-2fff-4a02-afe0-2778d9f9e387",
   "metadata": {},
   "source": [
    "`max_parallel_jobs` 는 직업 실행 시간과 결과 품질 간 **trade-off** 입니다: 더 많은 작업이 병렬로 실행될 수록 `max_jobs` 가 더 빨리 완료되지만, 다음에 시도할 매개 변수 조합을 선택할 때 전략이 완료된 작업에 대한 정보를 더 적게 갖게 됩니다.\n",
    "\n",
    "훈련 및 트랜스폼 작업과 마찬가지로 하이퍼파라미터 튜닝은 노트북과 별도로 실행되므로 연결이 끊기거나 종료되어도 중단되지 않습니다. SageMaker 콘솔의 [Training > Hyperparameter tuning jobs page](https://console.aws.amazon.com/sagemaker/home?#/hyper-tuning-jobs) 와 [DescribeHyperParameterTuningJob API](https://docs.aws.amazon.com/sagemaker/latest/APIReference/API_DescribeHyperParameterTuningJob.html) 에서 작업 진행 상황을 추적할 수 있습니다.\n",
    "\n",
    "HPO가 백그라운드에서 실행되는 동안 노트북에서 작업을 계속하려면 언제든지 `wait=False` 를 설정하거나 셀을 중단 (도구 모음의 사각형 정지 ⏹ 버튼)할 수 있습니다. 나중에 아래와 같이 `tuner.wait()` 를 호출해 활성 작업의 대기를 다시 시작할 수 있습니다. Estimator와 마찬가지로 튜닝 작업이 완료될 때까지 튜너의 모델을 `deploy()` 할 수 없습니다."
   ]
  },
  {
   "cell_type": "code",
   "execution_count": null,
   "id": "288d2402-9175-42ab-b909-c09ed7b3c8ea",
   "metadata": {
    "tags": []
   },
   "outputs": [],
   "source": [
    "xgb_tuner.wait()"
   ]
  },
  {
   "cell_type": "markdown",
   "id": "68ffc160-f036-4cce-8e2a-f56b731142c3",
   "metadata": {},
   "source": [
    "모델 튜닝으로 생성된 개별 훈련 작업은 수동으로 생성된 작업과 마찬가지로 SageMaker에 나열되며, HPO 작업은 객관적인 메트릭을 기반으로 모델의 리더보드를 구축합니다.\n",
    "\n",
    "이 예에서는 단순히 \"최상의\" 모델을 배포하지만, 작업을 탐색하여 더 깊은 인사이트를 얻을 수도 있습니다. 예제는 [this sample notebook](https://github.com/aws/amazon-sagemaker-examples/blob/main/hyperparameter_tuning/analyze_results/HPO_Analyze_TuningJob_Results.ipynb) 을 참조하세요.\n",
    "\n",
    "\n",
    "### Deploy and test the optimized model\n",
    "\n",
    "단일 훈련과 마찬가지로, 하이퍼파라미터 튜닝 실행 결과를 배치 또는 온라인 추론에 사용할 수 있습니다.\n",
    "\n",
    "[HyperparameterTuner.deploy(...)](https://sagemaker.readthedocs.io/en/stable/api/training/tuner.html#sagemaker.tuner.HyperparameterTuner.deploy) 메서드를 직접 호출하여 승리한 모델을 엔드포인트에 배포할 수 있지만, 이전과 마찬가지로 먼저 `Model` 오브젝트를 생성하여 나중에 SageMaker 모델 레지스트리에 다시 연결 합니다."
   ]
  },
  {
   "cell_type": "code",
   "execution_count": null,
   "id": "6530540a-2438-46a9-a0af-913e36c92556",
   "metadata": {
    "tags": []
   },
   "outputs": [],
   "source": [
    "best_job_name = xgb_tuner.best_training_job()\n",
    "print(\"Best training job from HPO run:\", best_job_name)\n",
    "\n",
    "hpo_model = sagemaker.estimator.Estimator.attach(best_job_name).create_model()"
   ]
  },
  {
   "cell_type": "code",
   "execution_count": null,
   "id": "383e4504-5d1f-41f1-a58f-b04dd13c4f18",
   "metadata": {
    "tags": []
   },
   "outputs": [],
   "source": [
    "hpo_predictor = hpo_model.deploy(\n",
    "    initial_instance_count=1,\n",
    "    instance_type=\"ml.m5.large\",\n",
    "    serializer=sagemaker.serializers.CSVSerializer(),\n",
    "    deserializer=sagemaker.deserializers.CSVDeserializer(),\n",
    ")"
   ]
  },
  {
   "cell_type": "markdown",
   "id": "3e917844-81eb-4020-9247-c1a92c998a81",
   "metadata": {},
   "source": [
    "### Use the endpoint\n",
    "\n",
    "SageMaker SDK의 [Predictor](https://sagemaker.readthedocs.io/en/stable/api/inference/predictors.html) 클래스는 노트북에서 유용한 추론 엔드포인트를 생성하고 호출하기 위한 높은 수준의 Python wrapper를 제공 합니다. 컨슈머 어플리케이션은 이러한 추가 라이브러리 종속성을 피하기 위해 낮은 수준의 [SageMaker Runtime API](https://docs.aws.amazon.com/sagemaker/latest/APIReference/API_Operations_Amazon_SageMaker_Runtime.html) ([Boto3 in Python](https://boto3.amazonaws.com/v1/documentation/api/latest/reference/services/sagemaker-runtime.html) 또는 다른 언어의 다른 AWS SDK)를 사용할 수도 있습니다.\n",
    "\n",
    "SageMaker 는 표 형식의 데이터를 넘어 광범위한 유즈 케이스를 지원하는 범용 ML 플랫폼이므로 엔드포인트 요청 (여기서는 CSV)에서 어떤 유형의 콘텐츠를 전송하고 응답 (여기서는 JSON)에 대해 SDK [serializer](https://sagemaker.readthedocs.io/en/stable/api/inference/serializers.html) 및 [deserializer classes](https://sagemaker.readthedocs.io/en/stable/api/inference/deserializers.html)를 통해 명시적으로 구성해야 합니다. 또한 자체 클래스를 정의하여 `predictor.predict()` 메서드의 Python I/O 인터페이스와 HTTPS 엔트포인트로 전송되는 온더와이어 데이터 형식을 완전히 사용자 정의할 수도 있습니다.\n",
    "\n",
    "다시 말하지만, 미리 빌드된 알고리즘을 사용할 때는 [algorithm docs](https://docs.aws.amazon.com/sagemaker/latest/dg/xgboost.html#InputOutput-XGBoost) 를 참조하여 추론 시 지원되는 입력 및 출력 형식을 확인하세요.\n",
    "\n",
    "앞서 일괄 변환의 경우와 유사하게 모델에서 `text/csv` 입력을 보내고 `text/csv` 출력을 요청하겠습니다:"
   ]
  },
  {
   "cell_type": "code",
   "execution_count": null,
   "id": "91776c91-0ccc-4785-bec4-8d42679b724a",
   "metadata": {
    "tags": []
   },
   "outputs": [],
   "source": [
    "# getting the predicted probabilities of the best model\n",
    "hpo_probabilities = np.array(\n",
    "    hpo_predictor.predict(test_data.drop([\"y\"], axis=1).values),\n",
    "    dtype=float,\n",
    ").squeeze()\n",
    "\n",
    "hpo_probabilities"
   ]
  },
  {
   "cell_type": "markdown",
   "id": "5e6dc47f-da25-4c69-b59b-d75c63ca1527",
   "metadata": {},
   "source": [
    "> ⚠️ **Note:** 위의 single `predict()` 호출은 **전체 테스트 데이터 집합을 한번에 일괄처리**하여 single `InvokeEndpoint` 요청을 만듭니다. 이와 같은 작은 데이터 세트에서는 괜찮지만, 실제 사용 사례에서는 처리량 효율성(큰 배치로 통신 오버헤드 감소), 엔드포인트 메모리 요구 사항, 페이로드 크기 제한(실시간 엔드포인트의 경우 6MB, 작성 시점 기준) 간에 균형을 맞춰야 합니다.\n",
    "\n",
    "우리의 모델은 잠재 고객이 정기 예금에 가입할 확률 점수 (in the interval [0,1]) 를 계산 했습니다. 이러한 예측을 노트북의 원본 데이터 프레임에 다시 결합하여 앞서의 일괄처리 결과와 유사한 성능을 탐색할 수 있습니다:"
   ]
  },
  {
   "cell_type": "code",
   "execution_count": null,
   "id": "2803ff21-3af9-42e0-a6fb-236cea26be0d",
   "metadata": {
    "tags": []
   },
   "outputs": [],
   "source": [
    "%matplotlib inline\n",
    "\n",
    "hpo_report = util.reporting.generate_binary_classification_report(\n",
    "    y_real=test_data[\"y\"].values,\n",
    "    y_predict_proba=hpo_probabilities,\n",
    "    # y_predict_label not available for XGBoost output format\n",
    "    # Optionally set decision_threshold=0.5 to apply a specific threshold, instead of maximizing F1:\n",
    "    # decision_threshold=0.5,\n",
    "    class_names_list=[\"Did not enroll\", \"Enrolled\"],\n",
    "    title=\"HP-tuned XGBoost model\",\n",
    ")\n",
    "\n",
    "# Store the model quality report locally and on Amazon S3:\n",
    "with open(\"data/report-xgbhpo.json\", \"w\") as f:\n",
    "    json.dump(hpo_report, f, indent=2)\n",
    "hpo_quality_s3uri = f\"s3://{bucket_name}/{bucket_prefix}/{hpo_model.name}/model-quality.json\"\n",
    "!aws s3 cp data/report-xgbhpo.json {hpo_quality_s3uri}"
   ]
  },
  {
   "cell_type": "markdown",
   "id": "7da70b26-0717-4f6f-aef6-4da3dc05b779",
   "metadata": {},
   "source": [
    "...마지막으로 이 튜닝된 모델을 SageMaker Model Registry group에 두 번째 후보 버전으로 등록할 수 있습니다:"
   ]
  },
  {
   "cell_type": "code",
   "execution_count": null,
   "id": "fca13456-796b-4522-b5dd-f7785a603634",
   "metadata": {
    "tags": []
   },
   "outputs": [],
   "source": [
    "hpo_model.register(\n",
    "    content_types=[\"text/csv\"],\n",
    "    response_types=[\"text/csv\"],\n",
    "    model_package_group_name=\"sm101-dm\",\n",
    "    description=\"HP-tuned XGBoost model\",\n",
    "    model_metrics=sagemaker.model_metrics.ModelMetrics(\n",
    "        model_statistics=sagemaker.model_metrics.MetricsSource(\n",
    "            content_type=\"application/json\",\n",
    "            s3_uri=hpo_quality_s3uri,\n",
    "        ),\n",
    "    ),\n",
    "    domain=\"MACHINE_LEARNING\",\n",
    "    task=\"CLASSIFICATION\",\n",
    "    sample_payload_url=test_data_s3uri,\n",
    ")"
   ]
  },
  {
   "cell_type": "markdown",
   "id": "7a703f62-7f03-43f4-b94b-3763502c4f74",
   "metadata": {},
   "source": [
    "▶️ SageMaker Model Registry에서 Model Group **열기**\n",
    "\n",
    "- 모델 그룹에서 **여러 버전을 선택**하려면 `Shift+Click` 또는 `Control+Click` 할 수 있습니다.\n",
    "- 여러 버전을 선택한 상태에서 `Right Click` 히고 `Compare model versions` 을 선택하면 여러 모델의 차트와 통계를 나란히 비교할 수 있습니다."
   ]
  },
  {
   "cell_type": "markdown",
   "id": "e0fbc0c2-a74f-4680-8c31-37a5e354827d",
   "metadata": {},
   "source": [
    "## Conclusions\n",
    "\n",
    "이 노트북에서는 [**SageMaker Autopilot**](https://docs.aws.amazon.com/sagemaker/latest/dg/autopilot-automate-model-development.html) 으로 코딩 없이도 새로운 표 형식 ML 프로젝트를 정확도가 높고 배포 가능한 모델로 가속화하는 방법을 살펴보았습니다. 또한 [SageMaker built-in algorithms](https://docs.aws.amazon.com/sagemaker/latest/dg/algos.html) 과 [automatic hyperparameter tuning](https://docs.aws.amazon.com/sagemaker/latest/dg/automatic-model-tuning.html)을 사용하여 일반적인 알고리즘을 처음부터 구현하지 않고도 모델을 사용자 지정할 수 있는 방법을 자세히 살펴봤습니다.\n",
    "\n",
    "또한 [SageMaker Feature Store](https://docs.aws.amazon.com/sagemaker/latest/dg/feature-store.html) 가 공유 Feature 데이터를 카탈로그화 하는데 어떻게 도움이 되는지, [SageMaker Model Registry](https://docs.aws.amazon.com/sagemaker/latest/dg/model-registry.html) 가 학습된 모델을 추적하고 관리하는데 어떻게 도움이 되는지데 대한 간략한 소개도 보았습니다. 이러한 MLOps 기능에 대한 자세한 내용은 설명서 및 공식 [SageMaker notebook examples repository](https://github.com/aws/amazon-sagemaker-examples)를 참조하세요.\n",
    "\n",
    "이번 HPO 실행에서는 런타임을 빠르게 유지하기 위해 비교적 적은 수의 트라이얼을 사용했기 때문에 큰 개선을 느끼지 못했을 수도 있습니다: 하지만 매개변수의 공간이 커지고 알고리즘이 최적의 조합을 탐색할 수 있도록 충분한 컴퓨팅 리소스를 할당할 수 있을때 HPO가 특히 유용 합니다.\n",
    "\n",
    "[SageMaker Autopilot](https://docs.aws.amazon.com/sagemaker/latest/dg/autopilot-automate-model-development.html) 은 새로운 표 형식 데이터 프로젝트에서 강력한 초기 결과를 제공하는 가장 빠른 방법일 수 있지만, SageMaker 빌트인 알고리즘은 텍스트 및 시각에서 더 틈새 표 형식 문제 유형에 이르기까지 광범위한 사용 사례를 지원 합니다. 빌트인 알고리즘을 SageMaker HPO와 결합하면 정확도를 크게 높일 수 있습니다.\n",
    "\n",
    "실제로 Autopilot은 내부에서 이러한 동일한 도구를 많이 사용 합니다: HPO 모드에서 실행할 때 HPO 작업 생성, 데이터 전처리 실험을 위한 SageMaker 프로세싱 사용, XGBoost 및 AutoGluon-Tabular 알고리즘 활용 등 입니다.\n"
   ]
  },
  {
   "cell_type": "markdown",
   "id": "e42ee733-482f-4b2e-bda7-12d4f43ee603",
   "metadata": {},
   "source": [
    "## Releasing cloud resources\n",
    "\n",
    "훈련 작업 클러스터는 작업이 중지되면 자동으로 종료되지만, 추론 엔드포인트는 명시적으로 삭제할 떄까지 프로비저닝된 상태로 유지됩니다.\n",
    "\n",
    "불필요한 요금이 부과되지 않도록 하려면 실험이 끝나면 다음 코드를 실행하여 AutoGluon model endpoint를 정리하세요. SageMaker 콘솔의 [Inference > Endpoints page](https://console.aws.amazon.com/sagemaker/home?#/endpoints) 에서 실행 중인 다른 엔드포인트가 있는지 확인할 수도 있습니다."
   ]
  },
  {
   "cell_type": "code",
   "execution_count": null,
   "id": "1c64a6ee-4bef-49fb-bd0c-fc1861c709d9",
   "metadata": {},
   "outputs": [],
   "source": [
    "# hpo_predictor.delete_endpoint(delete_endpoint_config=True)"
   ]
  }
 ],
 "metadata": {
  "availableInstances": [
   {
    "_defaultOrder": 0,
    "_isFastLaunch": true,
    "category": "General purpose",
    "gpuNum": 0,
    "hideHardwareSpecs": false,
    "memoryGiB": 4,
    "name": "ml.t3.medium",
    "vcpuNum": 2
   },
   {
    "_defaultOrder": 1,
    "_isFastLaunch": false,
    "category": "General purpose",
    "gpuNum": 0,
    "hideHardwareSpecs": false,
    "memoryGiB": 8,
    "name": "ml.t3.large",
    "vcpuNum": 2
   },
   {
    "_defaultOrder": 2,
    "_isFastLaunch": false,
    "category": "General purpose",
    "gpuNum": 0,
    "hideHardwareSpecs": false,
    "memoryGiB": 16,
    "name": "ml.t3.xlarge",
    "vcpuNum": 4
   },
   {
    "_defaultOrder": 3,
    "_isFastLaunch": false,
    "category": "General purpose",
    "gpuNum": 0,
    "hideHardwareSpecs": false,
    "memoryGiB": 32,
    "name": "ml.t3.2xlarge",
    "vcpuNum": 8
   },
   {
    "_defaultOrder": 4,
    "_isFastLaunch": true,
    "category": "General purpose",
    "gpuNum": 0,
    "hideHardwareSpecs": false,
    "memoryGiB": 8,
    "name": "ml.m5.large",
    "vcpuNum": 2
   },
   {
    "_defaultOrder": 5,
    "_isFastLaunch": false,
    "category": "General purpose",
    "gpuNum": 0,
    "hideHardwareSpecs": false,
    "memoryGiB": 16,
    "name": "ml.m5.xlarge",
    "vcpuNum": 4
   },
   {
    "_defaultOrder": 6,
    "_isFastLaunch": false,
    "category": "General purpose",
    "gpuNum": 0,
    "hideHardwareSpecs": false,
    "memoryGiB": 32,
    "name": "ml.m5.2xlarge",
    "vcpuNum": 8
   },
   {
    "_defaultOrder": 7,
    "_isFastLaunch": false,
    "category": "General purpose",
    "gpuNum": 0,
    "hideHardwareSpecs": false,
    "memoryGiB": 64,
    "name": "ml.m5.4xlarge",
    "vcpuNum": 16
   },
   {
    "_defaultOrder": 8,
    "_isFastLaunch": false,
    "category": "General purpose",
    "gpuNum": 0,
    "hideHardwareSpecs": false,
    "memoryGiB": 128,
    "name": "ml.m5.8xlarge",
    "vcpuNum": 32
   },
   {
    "_defaultOrder": 9,
    "_isFastLaunch": false,
    "category": "General purpose",
    "gpuNum": 0,
    "hideHardwareSpecs": false,
    "memoryGiB": 192,
    "name": "ml.m5.12xlarge",
    "vcpuNum": 48
   },
   {
    "_defaultOrder": 10,
    "_isFastLaunch": false,
    "category": "General purpose",
    "gpuNum": 0,
    "hideHardwareSpecs": false,
    "memoryGiB": 256,
    "name": "ml.m5.16xlarge",
    "vcpuNum": 64
   },
   {
    "_defaultOrder": 11,
    "_isFastLaunch": false,
    "category": "General purpose",
    "gpuNum": 0,
    "hideHardwareSpecs": false,
    "memoryGiB": 384,
    "name": "ml.m5.24xlarge",
    "vcpuNum": 96
   },
   {
    "_defaultOrder": 12,
    "_isFastLaunch": false,
    "category": "General purpose",
    "gpuNum": 0,
    "hideHardwareSpecs": false,
    "memoryGiB": 8,
    "name": "ml.m5d.large",
    "vcpuNum": 2
   },
   {
    "_defaultOrder": 13,
    "_isFastLaunch": false,
    "category": "General purpose",
    "gpuNum": 0,
    "hideHardwareSpecs": false,
    "memoryGiB": 16,
    "name": "ml.m5d.xlarge",
    "vcpuNum": 4
   },
   {
    "_defaultOrder": 14,
    "_isFastLaunch": false,
    "category": "General purpose",
    "gpuNum": 0,
    "hideHardwareSpecs": false,
    "memoryGiB": 32,
    "name": "ml.m5d.2xlarge",
    "vcpuNum": 8
   },
   {
    "_defaultOrder": 15,
    "_isFastLaunch": false,
    "category": "General purpose",
    "gpuNum": 0,
    "hideHardwareSpecs": false,
    "memoryGiB": 64,
    "name": "ml.m5d.4xlarge",
    "vcpuNum": 16
   },
   {
    "_defaultOrder": 16,
    "_isFastLaunch": false,
    "category": "General purpose",
    "gpuNum": 0,
    "hideHardwareSpecs": false,
    "memoryGiB": 128,
    "name": "ml.m5d.8xlarge",
    "vcpuNum": 32
   },
   {
    "_defaultOrder": 17,
    "_isFastLaunch": false,
    "category": "General purpose",
    "gpuNum": 0,
    "hideHardwareSpecs": false,
    "memoryGiB": 192,
    "name": "ml.m5d.12xlarge",
    "vcpuNum": 48
   },
   {
    "_defaultOrder": 18,
    "_isFastLaunch": false,
    "category": "General purpose",
    "gpuNum": 0,
    "hideHardwareSpecs": false,
    "memoryGiB": 256,
    "name": "ml.m5d.16xlarge",
    "vcpuNum": 64
   },
   {
    "_defaultOrder": 19,
    "_isFastLaunch": false,
    "category": "General purpose",
    "gpuNum": 0,
    "hideHardwareSpecs": false,
    "memoryGiB": 384,
    "name": "ml.m5d.24xlarge",
    "vcpuNum": 96
   },
   {
    "_defaultOrder": 20,
    "_isFastLaunch": false,
    "category": "General purpose",
    "gpuNum": 0,
    "hideHardwareSpecs": true,
    "memoryGiB": 0,
    "name": "ml.geospatial.interactive",
    "supportedImageNames": [
     "sagemaker-geospatial-v1-0"
    ],
    "vcpuNum": 0
   },
   {
    "_defaultOrder": 21,
    "_isFastLaunch": true,
    "category": "Compute optimized",
    "gpuNum": 0,
    "hideHardwareSpecs": false,
    "memoryGiB": 4,
    "name": "ml.c5.large",
    "vcpuNum": 2
   },
   {
    "_defaultOrder": 22,
    "_isFastLaunch": false,
    "category": "Compute optimized",
    "gpuNum": 0,
    "hideHardwareSpecs": false,
    "memoryGiB": 8,
    "name": "ml.c5.xlarge",
    "vcpuNum": 4
   },
   {
    "_defaultOrder": 23,
    "_isFastLaunch": false,
    "category": "Compute optimized",
    "gpuNum": 0,
    "hideHardwareSpecs": false,
    "memoryGiB": 16,
    "name": "ml.c5.2xlarge",
    "vcpuNum": 8
   },
   {
    "_defaultOrder": 24,
    "_isFastLaunch": false,
    "category": "Compute optimized",
    "gpuNum": 0,
    "hideHardwareSpecs": false,
    "memoryGiB": 32,
    "name": "ml.c5.4xlarge",
    "vcpuNum": 16
   },
   {
    "_defaultOrder": 25,
    "_isFastLaunch": false,
    "category": "Compute optimized",
    "gpuNum": 0,
    "hideHardwareSpecs": false,
    "memoryGiB": 72,
    "name": "ml.c5.9xlarge",
    "vcpuNum": 36
   },
   {
    "_defaultOrder": 26,
    "_isFastLaunch": false,
    "category": "Compute optimized",
    "gpuNum": 0,
    "hideHardwareSpecs": false,
    "memoryGiB": 96,
    "name": "ml.c5.12xlarge",
    "vcpuNum": 48
   },
   {
    "_defaultOrder": 27,
    "_isFastLaunch": false,
    "category": "Compute optimized",
    "gpuNum": 0,
    "hideHardwareSpecs": false,
    "memoryGiB": 144,
    "name": "ml.c5.18xlarge",
    "vcpuNum": 72
   },
   {
    "_defaultOrder": 28,
    "_isFastLaunch": false,
    "category": "Compute optimized",
    "gpuNum": 0,
    "hideHardwareSpecs": false,
    "memoryGiB": 192,
    "name": "ml.c5.24xlarge",
    "vcpuNum": 96
   },
   {
    "_defaultOrder": 29,
    "_isFastLaunch": true,
    "category": "Accelerated computing",
    "gpuNum": 1,
    "hideHardwareSpecs": false,
    "memoryGiB": 16,
    "name": "ml.g4dn.xlarge",
    "vcpuNum": 4
   },
   {
    "_defaultOrder": 30,
    "_isFastLaunch": false,
    "category": "Accelerated computing",
    "gpuNum": 1,
    "hideHardwareSpecs": false,
    "memoryGiB": 32,
    "name": "ml.g4dn.2xlarge",
    "vcpuNum": 8
   },
   {
    "_defaultOrder": 31,
    "_isFastLaunch": false,
    "category": "Accelerated computing",
    "gpuNum": 1,
    "hideHardwareSpecs": false,
    "memoryGiB": 64,
    "name": "ml.g4dn.4xlarge",
    "vcpuNum": 16
   },
   {
    "_defaultOrder": 32,
    "_isFastLaunch": false,
    "category": "Accelerated computing",
    "gpuNum": 1,
    "hideHardwareSpecs": false,
    "memoryGiB": 128,
    "name": "ml.g4dn.8xlarge",
    "vcpuNum": 32
   },
   {
    "_defaultOrder": 33,
    "_isFastLaunch": false,
    "category": "Accelerated computing",
    "gpuNum": 4,
    "hideHardwareSpecs": false,
    "memoryGiB": 192,
    "name": "ml.g4dn.12xlarge",
    "vcpuNum": 48
   },
   {
    "_defaultOrder": 34,
    "_isFastLaunch": false,
    "category": "Accelerated computing",
    "gpuNum": 1,
    "hideHardwareSpecs": false,
    "memoryGiB": 256,
    "name": "ml.g4dn.16xlarge",
    "vcpuNum": 64
   },
   {
    "_defaultOrder": 35,
    "_isFastLaunch": false,
    "category": "Accelerated computing",
    "gpuNum": 1,
    "hideHardwareSpecs": false,
    "memoryGiB": 61,
    "name": "ml.p3.2xlarge",
    "vcpuNum": 8
   },
   {
    "_defaultOrder": 36,
    "_isFastLaunch": false,
    "category": "Accelerated computing",
    "gpuNum": 4,
    "hideHardwareSpecs": false,
    "memoryGiB": 244,
    "name": "ml.p3.8xlarge",
    "vcpuNum": 32
   },
   {
    "_defaultOrder": 37,
    "_isFastLaunch": false,
    "category": "Accelerated computing",
    "gpuNum": 8,
    "hideHardwareSpecs": false,
    "memoryGiB": 488,
    "name": "ml.p3.16xlarge",
    "vcpuNum": 64
   },
   {
    "_defaultOrder": 38,
    "_isFastLaunch": false,
    "category": "Accelerated computing",
    "gpuNum": 8,
    "hideHardwareSpecs": false,
    "memoryGiB": 768,
    "name": "ml.p3dn.24xlarge",
    "vcpuNum": 96
   },
   {
    "_defaultOrder": 39,
    "_isFastLaunch": false,
    "category": "Memory Optimized",
    "gpuNum": 0,
    "hideHardwareSpecs": false,
    "memoryGiB": 16,
    "name": "ml.r5.large",
    "vcpuNum": 2
   },
   {
    "_defaultOrder": 40,
    "_isFastLaunch": false,
    "category": "Memory Optimized",
    "gpuNum": 0,
    "hideHardwareSpecs": false,
    "memoryGiB": 32,
    "name": "ml.r5.xlarge",
    "vcpuNum": 4
   },
   {
    "_defaultOrder": 41,
    "_isFastLaunch": false,
    "category": "Memory Optimized",
    "gpuNum": 0,
    "hideHardwareSpecs": false,
    "memoryGiB": 64,
    "name": "ml.r5.2xlarge",
    "vcpuNum": 8
   },
   {
    "_defaultOrder": 42,
    "_isFastLaunch": false,
    "category": "Memory Optimized",
    "gpuNum": 0,
    "hideHardwareSpecs": false,
    "memoryGiB": 128,
    "name": "ml.r5.4xlarge",
    "vcpuNum": 16
   },
   {
    "_defaultOrder": 43,
    "_isFastLaunch": false,
    "category": "Memory Optimized",
    "gpuNum": 0,
    "hideHardwareSpecs": false,
    "memoryGiB": 256,
    "name": "ml.r5.8xlarge",
    "vcpuNum": 32
   },
   {
    "_defaultOrder": 44,
    "_isFastLaunch": false,
    "category": "Memory Optimized",
    "gpuNum": 0,
    "hideHardwareSpecs": false,
    "memoryGiB": 384,
    "name": "ml.r5.12xlarge",
    "vcpuNum": 48
   },
   {
    "_defaultOrder": 45,
    "_isFastLaunch": false,
    "category": "Memory Optimized",
    "gpuNum": 0,
    "hideHardwareSpecs": false,
    "memoryGiB": 512,
    "name": "ml.r5.16xlarge",
    "vcpuNum": 64
   },
   {
    "_defaultOrder": 46,
    "_isFastLaunch": false,
    "category": "Memory Optimized",
    "gpuNum": 0,
    "hideHardwareSpecs": false,
    "memoryGiB": 768,
    "name": "ml.r5.24xlarge",
    "vcpuNum": 96
   },
   {
    "_defaultOrder": 47,
    "_isFastLaunch": false,
    "category": "Accelerated computing",
    "gpuNum": 1,
    "hideHardwareSpecs": false,
    "memoryGiB": 16,
    "name": "ml.g5.xlarge",
    "vcpuNum": 4
   },
   {
    "_defaultOrder": 48,
    "_isFastLaunch": false,
    "category": "Accelerated computing",
    "gpuNum": 1,
    "hideHardwareSpecs": false,
    "memoryGiB": 32,
    "name": "ml.g5.2xlarge",
    "vcpuNum": 8
   },
   {
    "_defaultOrder": 49,
    "_isFastLaunch": false,
    "category": "Accelerated computing",
    "gpuNum": 1,
    "hideHardwareSpecs": false,
    "memoryGiB": 64,
    "name": "ml.g5.4xlarge",
    "vcpuNum": 16
   },
   {
    "_defaultOrder": 50,
    "_isFastLaunch": false,
    "category": "Accelerated computing",
    "gpuNum": 1,
    "hideHardwareSpecs": false,
    "memoryGiB": 128,
    "name": "ml.g5.8xlarge",
    "vcpuNum": 32
   },
   {
    "_defaultOrder": 51,
    "_isFastLaunch": false,
    "category": "Accelerated computing",
    "gpuNum": 1,
    "hideHardwareSpecs": false,
    "memoryGiB": 256,
    "name": "ml.g5.16xlarge",
    "vcpuNum": 64
   },
   {
    "_defaultOrder": 52,
    "_isFastLaunch": false,
    "category": "Accelerated computing",
    "gpuNum": 4,
    "hideHardwareSpecs": false,
    "memoryGiB": 192,
    "name": "ml.g5.12xlarge",
    "vcpuNum": 48
   },
   {
    "_defaultOrder": 53,
    "_isFastLaunch": false,
    "category": "Accelerated computing",
    "gpuNum": 4,
    "hideHardwareSpecs": false,
    "memoryGiB": 384,
    "name": "ml.g5.24xlarge",
    "vcpuNum": 96
   },
   {
    "_defaultOrder": 54,
    "_isFastLaunch": false,
    "category": "Accelerated computing",
    "gpuNum": 8,
    "hideHardwareSpecs": false,
    "memoryGiB": 768,
    "name": "ml.g5.48xlarge",
    "vcpuNum": 192
   }
  ],
  "instance_type": "ml.t3.medium",
  "kernelspec": {
   "display_name": "Python 3 (Data Science 3.0)",
   "language": "python",
   "name": "python3__SAGEMAKER_INTERNAL__arn:aws:sagemaker:ap-northeast-2:806072073708:image/sagemaker-data-science-310-v1"
  },
  "language_info": {
   "codemirror_mode": {
    "name": "ipython",
    "version": 3
   },
   "file_extension": ".py",
   "mimetype": "text/x-python",
   "name": "python",
   "nbconvert_exporter": "python",
   "pygments_lexer": "ipython3",
   "version": "3.10.6"
  },
  "toc-showmarkdowntxt": false
 },
 "nbformat": 4,
 "nbformat_minor": 5
}
